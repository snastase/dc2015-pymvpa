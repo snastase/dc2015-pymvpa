{
 "metadata": {
  "name": "",
  "signature": "sha256:a11d7b35333ff42959ef20175a3b5c5ca344de23c90b71051c10864ded97a73b"
 },
 "nbformat": 3,
 "nbformat_minor": 0,
 "worksheets": [
  {
   "cells": [
    {
     "cell_type": "heading",
     "level": 1,
     "metadata": {},
     "source": [
      "Working with OpenFMRI.org data"
     ]
    },
    {
     "cell_type": "markdown",
     "metadata": {},
     "source": [
      "\n",
      "\n",
      "Working with data from other researchers can be hard. There are lots of ways to\n",
      "collect data, and even more ways to store it on a hard drive. This variability\n",
      "turns discovering the structure of a \"foreign\" dataset into a research project\n",
      "of its own.\n",
      "\n",
      "Standardization is one way to make this easier and the [OpenFMRI](http://www.openfmri.org) project has\n",
      "proposed a scheme for structuring (task) fMRI dataset in order to facilitate\n",
      "automated analysis. While there are other approaches to standardization, the\n",
      "[layout proposed by OpenFMRI](https://openfmri.org/content/data-organization) is appealing, because it offers a good balance\n",
      "between the level of standardization and the required effort to achieve it.\n",
      "\n",
      "PyMVPA offers convenient tools to work with dataset that are (somewhat)\n",
      "compliant with the OpenFMRI structure. So independent of whether you plan on\n",
      "sharing your data or not, it may make sense to adopt these conventions, when\n",
      "working with PyMVPA. Take a look at this tutorial and make up your mind whether\n",
      "there is something about this convenience that you like. As a bonus, if you\n",
      "have your dataset formated for OpenFMRI already, it becomes technically trivial\n",
      "to share it on openfmri.org later on -- for free. Here is how it looks like to\n",
      "work with an OpenFMRI dataset, starting with the bare necessities:"
     ]
    },
    {
     "cell_type": "code",
     "collapsed": false,
     "input": [
      "from os.path import join as opj\n",
      "import mvpa2\n",
      "from mvpa2.datasets.sources import OpenFMRIDataset"
     ],
     "language": "python",
     "metadata": {},
     "outputs": []
    },
    {
     "cell_type": "markdown",
     "metadata": {},
     "source": [
      "\n",
      "\n",
      "Assuming you downloaded and extracted a dataset from OpenFMRI.org into the\n",
      "current directory, you will have a sub-directory (for example `ds105` if you\n",
      "picked the [Haxby et al, (2001) data](https://openfmri.org/dataset/ds000105)) that contains all files of the data\n",
      "release. In order to have PyMVPA access this data, we simply have to create a\n",
      "handler that is pointed to this sub-directory. In order to spare you the 2GB\n",
      "download just to run this tutorial, we are using a minified version of that\n",
      "dataset in this demo which already comes with PyMVPA."
     ]
    },
    {
     "cell_type": "code",
     "collapsed": false,
     "input": [
      "path = opj(mvpa2.pymvpa_dataroot , 'haxby2001')\n",
      "of = OpenFMRIDataset(path)"
     ],
     "language": "python",
     "metadata": {},
     "outputs": []
    },
    {
     "cell_type": "markdown",
     "metadata": {},
     "source": [
      "\n",
      "\n",
      "Through this handler we can access lots of information about this dataset.\n",
      "Let's start with what this dataset is all about."
     ]
    },
    {
     "cell_type": "code",
     "collapsed": false,
     "input": [
      "print of.get_task_descriptions()"
     ],
     "language": "python",
     "metadata": {},
     "outputs": []
    },
    {
     "cell_type": "markdown",
     "metadata": {},
     "source": [
      "\n",
      "\n",
      "We can immediately see that the dataset is concerned with a single task *object\n",
      "viewing* The descriptions are always returned as a dictionary that maps the\n",
      "task ID (an integer number) to a verbal description. This is done, because a\n",
      "dataset can contain data for more than one task.\n",
      "\n",
      "Other descriptive information, such as the number and IDs of the subjects in the\n",
      "dataset, as well as other supporting information specified in the\n",
      "`scan_key.txt` meta data file are also available:"
     ]
    },
    {
     "cell_type": "code",
     "collapsed": false,
     "input": [
      "print of.get_subj_ids()"
     ],
     "language": "python",
     "metadata": {},
     "outputs": []
    },
    {
     "cell_type": "code",
     "collapsed": false,
     "input": [
      "of.get_scan_properties()"
     ],
     "language": "python",
     "metadata": {},
     "outputs": []
    },
    {
     "cell_type": "markdown",
     "metadata": {},
     "source": [
      "\n",
      "\n",
      "As you can see, subject IDs don't have to be numerical.\n",
      "\n",
      "So far, the information we retrieved was rather simple and the advantages of\n",
      "being able to access them through an API will not become obvious until one\n",
      "starts working with a lot of datasets simultaneously. So let's take a look at\n",
      "some functionality that is more useful in the context of a single dataset.\n",
      "\n",
      "For task fMRI, we are almost always interested in information about the\n",
      "stimulation model, i.e. when was any particular subject exposed to which\n",
      "experiment conditions. All this information is readily available. Here is how\n",
      "you get the number and IDs of all contained model specifications:"
     ]
    },
    {
     "cell_type": "code",
     "collapsed": false,
     "input": [
      "of.get_model_ids()"
     ],
     "language": "python",
     "metadata": {},
     "outputs": []
    },
    {
     "cell_type": "code",
     "collapsed": false,
     "input": [
      "of.get_model_descriptions()"
     ],
     "language": "python",
     "metadata": {},
     "outputs": []
    },
    {
     "cell_type": "markdown",
     "metadata": {},
     "source": [
      "\n",
      "\n",
      "This particular dataset contains a single model specification. With its\n",
      "numerical ID we can query more information about the model:"
     ]
    },
    {
     "cell_type": "code",
     "collapsed": false,
     "input": [
      "conditions = of.get_model_conditions(1)\n",
      "print conditions"
     ],
     "language": "python",
     "metadata": {},
     "outputs": []
    },
    {
     "cell_type": "code",
     "collapsed": false,
     "input": [
      "print [c['name'] for c in conditions]"
     ],
     "language": "python",
     "metadata": {},
     "outputs": []
    },
    {
     "cell_type": "markdown",
     "metadata": {},
     "source": [
      "\n",
      "\n",
      "We can easily get a list of the condition names and their association with a\n",
      "particular task. And with the task ID we can query the dataset for the number\n",
      "(and IDs) of all related BOLD run fMRI images."
     ]
    },
    {
     "cell_type": "code",
     "collapsed": false,
     "input": [
      "print of.get_task_bold_run_ids(1)"
     ],
     "language": "python",
     "metadata": {},
     "outputs": []
    },
    {
     "cell_type": "markdown",
     "metadata": {},
     "source": [
      "\n",
      "\n",
      "If there would be actual data available for the `phantom` subject, we would\n",
      "see it in the output too.\n",
      "\n",
      "With this information we can access almost any item in this dataset that is\n",
      "related to task fMRI. Take a look at\n",
      "[OpenFMRIDataset.get_bold_run_image()](http://pymvpa.org/generated/mvpa2.datasets.sources.openfmri.OpenFMRIDataset.html#mvpa2.datasets.sources.openfmri.OpenFMRIDataset.get_bold_run_image),\n",
      "[OpenFMRIDataset.get_bold_run_dataset()](http://pymvpa.org/generated/mvpa2.datasets.sources.openfmri.OpenFMRIDataset.html#mvpa2.datasets.sources.openfmri.OpenFMRIDataset.get_bold_run_dataset),\n",
      "and the other methods in order to explore the possibilities.  After looking at\n",
      "all the raw information available in a dataset, let's take a look at some\n",
      "high-level functionality that is more interesting when actually working with a\n",
      "task fMRI dataset.\n",
      "\n",
      "For any supervised analysis strategy, for example a classification analysis, it\n",
      "is necessary to assign labels to data points. In PyMVPA, this is done by\n",
      "creating a dataset with (at least) one sample attribute containing the labels\n",
      "-- one for each sample in the dataset. The\n",
      "[OpenFMRIDataset.get_model_bold_dataset()](http://pymvpa.org/generated/mvpa2.datasets.sources.openfmri.OpenFMRIDataset.html#mvpa2.datasets.sources.openfmri.OpenFMRIDataset.get_model_bold_dataset)\n",
      "method is a convenient way of generating such a dataset directly from the\n",
      "OpenFMRI specification. As you'll see in a second, this methods uses any\n",
      "relevant information contained in the OpenFMRI specification and we only need\n",
      "to fill in the details of how exactly we want the PyMVPA dataset to be created.\n",
      "So here is a complete example:"
     ]
    },
    {
     "cell_type": "code",
     "collapsed": false,
     "input": [
      "from mvpa2.datasets.eventrelated import fit_event_hrf_model\n",
      "ds = of.get_model_bold_dataset(\n",
      "         model_id=1,\n",
      "         subj_id=1,\n",
      "         flavor='25mm',\n",
      "         mask=opj(path, 'sub001', 'masks', '25mm', 'brain.nii.gz'),\n",
      "         modelfx=fit_event_hrf_model,\n",
      "         time_attr='time_coords',\n",
      "         condition_attr='condition')"
     ],
     "language": "python",
     "metadata": {},
     "outputs": []
    },
    {
     "cell_type": "markdown",
     "metadata": {},
     "source": [
      "\n",
      "\n",
      "So let's take this bit of code apart in order to understand what it is doing.\n",
      "When calling `get_model_bold_dataset()`, we specify the model ID and subject\n",
      "ID, as well as the \"flavor\" of data we are interested in. Think of the flavor\n",
      "as different variants of the same raw fMRI time series (e.g. different set of\n",
      "applied preprocessing steps). We are using the \"25mm\" flavor, which is our\n",
      "minified variant of the original dataset, down-sampled to voxels with 25 mm edge\n",
      "length.  Based on this information, the relevant stimulus model specifications\n",
      "are discovered and data files for the associated subject are loaded. This\n",
      "method could be called in a loop to, subsequently, load data for all available\n",
      "subjects. In addition, we specify a mask image file to exclude non-brain voxels.\n",
      "Often these masks do not come with a data release and have to be created first.\n",
      "\n",
      "Now for the important bits: The `modelfx` argument takes a, so-called,\n",
      "factory method that can transform a time series dataset (each sample in the\n",
      "dataset is a time point at that stage) into the desired type of sample (or\n",
      "observation). In this example, we have used\n",
      "[fit_event_hrf_model()](http://pymvpa.org/generated/mvpa2.datasets.eventrelated.fit_event_hrf_model.html#mvpa2-datasets-eventrelated-fit-event-hrf-model) that is designed to\n",
      "perform modeling of each stimulation event contained in the OpenFMRI\n",
      "specification. PyMVPA ships with three principal transformation methods that\n",
      "can be used here: [fit_event_hrf_model()](http://pymvpa.org/generated/mvpa2.datasets.eventrelated.fit_event_hrf_model.html#mvpa2-datasets-eventrelated-fit-event-hrf-model),\n",
      "[extract_boxcar_event_samples()](http://pymvpa.org/generated/mvpa2.datasets.eventrelated.extract_boxcar_event_samples.html#mvpa2-datasets-eventrelated-extract-boxcar-event-samples) and\n",
      "[assign_conditionlabels()](http://pymvpa.org/generated/mvpa2.datasets.eventrelated.assign_conditionlabels.html#mvpa2-datasets-eventrelated-assign-conditionlabels). The difference\n",
      "between the three is that the latter simply assignes conditions labels to the\n",
      "time point samples of a time series dataset, whereas the former two can do more\n",
      "complex transformations, such as temporal compression, or model fitting.  Note,\n",
      "that is is possible to implement custom transformation functions for\n",
      "`modelfx`, but all common use cases should be supported by the three functions\n",
      "that already come with PyMVPA.\n",
      "\n",
      "All subsequent argument are passed on to the `modelfx`. In this example, we\n",
      "requested all events of the same condition to be modeled by a regressor that is\n",
      "based on a canonical hemodynamic response function (this requires the\n",
      "specification of a dataset attribute that encodes the timing of a time series\n",
      "samples; `time_attr`)."
     ]
    },
    {
     "cell_type": "code",
     "collapsed": false,
     "input": [
      "print ds"
     ],
     "language": "python",
     "metadata": {},
     "outputs": []
    },
    {
     "cell_type": "markdown",
     "metadata": {},
     "source": [
      "\n",
      "\n",
      "This all led to an output dataset with 96 samples, one sample per each of the\n",
      "eight condition in each of the 12 runs."
     ]
    },
    {
     "cell_type": "code",
     "collapsed": false,
     "input": [
      "print ds.sa.condition"
     ],
     "language": "python",
     "metadata": {},
     "outputs": []
    },
    {
     "cell_type": "code",
     "collapsed": false,
     "input": [
      "print ds.sa.chunks"
     ],
     "language": "python",
     "metadata": {},
     "outputs": []
    },
    {
     "cell_type": "markdown",
     "metadata": {},
     "source": [
      "\n",
      "\n",
      "Each value in the sample matrix corresponds to the estimated model parameter\n",
      "(or weight) for the associated voxel. Model fitting is performed individually\n",
      "per each run. The model regressors, as well as numerous other bits of\n",
      "information are available in the returned dataset.\n",
      "\n",
      "Depending on the type of preprocessing that was applied to this data flavor,\n",
      "the dataset `ds` may be ready for immediate analysis, for example in\n",
      "a cross-validated classification analysis. If further preprocessing steps\n",
      "are desired, the `preproc_ds` argument of\n",
      "[OpenFMRIDataset.get_model_bold_dataset()](http://pymvpa.org/generated/mvpa2.datasets.sources.openfmri.OpenFMRIDataset.html#mvpa2.datasets.sources.openfmri.OpenFMRIDataset.get_model_bold_dataset)\n",
      "provides an interface for applying additional transformations, such as temporal\n",
      "filtering, to the time series data of each individual BOLD fMRI run."
     ]
    }
   ],
   "metadata": {}
  }
 ]
}